{
 "cells": [
  {
   "cell_type": "markdown",
   "id": "a3500663-c1f4-46c6-aaac-5a4f5aa566b5",
   "metadata": {},
   "source": [
    "# Loading Data"
   ]
  },
  {
   "cell_type": "code",
   "execution_count": 1,
   "id": "51dce586-944f-4127-90fc-50113794b071",
   "metadata": {},
   "outputs": [],
   "source": [
    "import pandas as pd"
   ]
  },
  {
   "cell_type": "code",
   "execution_count": 2,
   "id": "e441114d-1248-498e-b5c7-a47bf3214451",
   "metadata": {},
   "outputs": [],
   "source": [
    "df=pd.read_csv(\"course_list/List_of_courses.csv\")"
   ]
  },
  {
   "cell_type": "code",
   "execution_count": 3,
   "id": "3d76dce3-0183-4831-a848-2ae020fea634",
   "metadata": {},
   "outputs": [
    {
     "name": "stdout",
     "output_type": "stream",
     "text": [
      "    Code (New/Old)                           Name (New/Old) Slot new  \\\n",
      "0           BML511                               Physiology        Q   \n",
      "1     BML512/BM512                        Molecular Biology        B   \n",
      "2     BML513/BM513                             Biochemistry      J12   \n",
      "3     BML611/BM611         Biomicrofluidics and Lab-on-Chip        D   \n",
      "4     BML612/BM612                           Bioinformatics      A12   \n",
      "..             ...                                      ...      ...   \n",
      "160   PHL505/PH508                          Electrodynamics        E   \n",
      "161   PHL607/PH513  Experimental and Measurement Techniques        J   \n",
      "162   PHL611/PH611                           Applied Optics        M   \n",
      "163         PHP102                              Physics lab      LAB   \n",
      "164         PHP506                   Electronics Laboratory      LAB   \n",
      "\n",
      "     Room Nubmer Discipline                 Instructor  \n",
      "0    AIMS RAIPUR         BM                 DPGC_BSBME  \n",
      "1           L105         BM           Dr. Suchetan Pal  \n",
      "2           L102         BM  Dr. Ramasamy Mayilmurugan  \n",
      "3    ED1 201/202         BM   Dr. Nagesh Devidas Patil  \n",
      "4    ED1 201/202         BM             Dr. Rukmankesh  \n",
      "..           ...        ...                        ...  \n",
      "160         L206         PH          Dr. Praveen Kumar  \n",
      "161         L101         PH     Dr. Dhruv Pratap Singh  \n",
      "162         L206         PH          Dr. Praveen Kumar  \n",
      "163       PH LAB         PH          Dr. Sesha Vempati  \n",
      "164       PH LAB         PH       Dr. Anjali Chaudhary  \n",
      "\n",
      "[165 rows x 6 columns]\n"
     ]
    }
   ],
   "source": [
    "print(df)"
   ]
  },
  {
   "cell_type": "code",
   "execution_count": 7,
   "id": "a62793e5-746d-42d5-a1ef-0f1bae0e366f",
   "metadata": {},
   "outputs": [],
   "source": [
    "import csv"
   ]
  },
  {
   "cell_type": "code",
   "execution_count": 27,
   "id": "7c01d91c-a48b-4d43-89d9-8c4456da2224",
   "metadata": {},
   "outputs": [],
   "source": [
    "data=[]\n",
    "with open(\"course_list/List_of_courses.csv\") as file:\n",
    "    reader=csv.reader(file)\n",
    "    for index,line in enumerate(reader):\n",
    "        if (index != 0):\n",
    "            data.append(tuple(line))"
   ]
  },
  {
   "cell_type": "code",
   "execution_count": 28,
   "id": "e90d146b-4d12-4d70-a104-6bf14bd69344",
   "metadata": {
    "scrolled": true
   },
   "outputs": [
    {
     "name": "stdout",
     "output_type": "stream",
     "text": [
      "[('BML511', 'Physiology', 'Q', 'AIMS RAIPUR', 'BM', 'DPGC_BSBME'), ('BML512/BM512', 'Molecular Biology', 'B', 'L105', 'BM', 'Dr. Suchetan Pal'), ('BML513/BM513', 'Biochemistry', 'J12', 'L102', 'BM', 'Dr. Ramasamy Mayilmurugan'), ('BML611/BM611', 'Biomicrofluidics and Lab-on-Chip', 'D', 'ED1 201/202', 'BM', 'Dr. Nagesh Devidas Patil'), ('BML612/BM612', 'Bioinformatics', 'A12', 'ED1 201/202', 'BM', 'Dr. Rukmankesh'), ('BML613/CY618', 'Bionanotechnology', 'C3', 'ED1 212/213', 'BM', 'Dr. Suchetan Pal'), ('BMP581', 'Bioengineering Lab 1', 'O', 'AIMS RAIPUR', 'BM', 'DPGC_BSBME'), ('CS200', 'Software Tool and Technologies Lab-II', 'A12', 'L102', 'CS', 'Dr. Dhiman saha'), ('CS201', 'Discrete Structures II', 'A3', 'L105', 'CS', 'Dr. Barun Gorain'), ('CS202', 'Algorithms  I', 'F12', 'L205', 'CS', 'Dr. Rishi Ranjan Singh'), ('CS203', 'Theory of Computation I', 'B1,B3', 'L101', 'CS', 'Dr. Amit Kumar Dhar'), ('CS204', 'Computer Organization & Architecture', 'D12', 'L206', 'CS', 'Prof. Santosh Biswas'), ('CS251', 'Introduction to Language Processing', 'E12', 'L205', 'CS', 'Dr. Vishwesh Jatala'), ('CS252', 'Algorithms-II', 'G1, G3', 'ED1 201/202', 'CS', 'Dr. I Vinod Reddy'), ('CS301', 'Computer Networks', 'C', 'L101', 'CS', 'Dr. Anand Baswade'), ('CS499', 'Thesis (BTech)', 'NA', 'NA', 'CS', 'DUGC_CSE'), ('CS599', 'Thesis (MTech)', 'NA', 'NA', 'CS', 'DPGC_CSE'), ('CS795', 'PhD Candidacy', 'NA', 'NA', 'CS', 'DPGC_CSE'), ('CS799', 'Thesis (PhD)', 'NA', 'NA', 'CS', 'DPGC_CSE'), ('CSL502', 'Foundation of Computer Science', 'I', 'L103', 'CS', 'Dr. Rishi Ranjan Singh'), ('CSL503', 'Computer Systems Engineering', 'G12, R23 ', 'ED1 207/208, CSE LAB', 'CS', 'Prof. Santosh Biswas, Dr. Vishwesh Jatala'), ('CSL505/CS553', 'Cryptography', 'D', 'L101', 'CS', 'Dr. Dhiman saha'), ('CSL510/CS510', 'Approximation Algorithms', 'C', 'L203', 'CS', 'Dr. Barun Gorain'), ('CSL605', 'Computer Networks and Cyber Security', 'L12, S23 ', 'L205, CSE LAB', 'CS', 'Dr. Anand Baswade, Dr. Souradyuti Paul'), ('CSL606', 'Advance Data Structures and Algorithms', 'C', 'L207', 'CS', 'Dr. I Vinod Reddy'), ('CSL511/CS511', 'Introduction to Formal Verification and Its Applications', 'I', 'L104', 'CS', 'Dr. Amit Kumar Dhar'), ('CSL100 & MAL400/IC100', 'Introduction to programming', 'E1, E2, B3 ', 'L209,(L103, L104, L203, L204, ED1 201/202 TUT)', 'CS', 'Dr. SK Subidh Ali'), ('CA200', 'Professional Communication Lab III â€“ Technical Literature Structure', 'K1', 'L209', 'CY', 'Dr. Ganapathy D, Dr. Sonal Jha'), ('IC201', 'Environmental Studies', 'I3, H1 ', 'L209,(L204, L206, ED1 207/208, ED1 212/213 TUT)', 'CY', 'Dr. Raghavender Medishetty'), ('IC300', 'Materials Chemistry III', 'L2', 'L209', 'CY', 'Dr. Satyajit Gupta'), ('CY506', 'InorganicÂ\\xa0ChemistryÂ\\xa0Practical', 'LAB', 'TBA', 'CY', 'Dr.Â\\xa0ArupÂ\\xa0Mukherjee,Â\\xa0Dr.Â\\xa0RaghavenderÂ\\xa0Medishetty,Â\\xa0Dr.Â\\xa0\\nRamasamyÂ\\xa0MayilmuruganÂ\\xa0(IC)'), ('CY604', 'Solid State Chemistry', 'E23', 'ED1 201/202', 'CY', 'Dr. Katchala Nanaji'), ('CY699', 'Thesis (MSc)', 'NA', 'NA', 'CY', 'DPGC_CY'), ('CY795', 'PhD Candidacy', 'NA', 'NA', 'CY', 'DPGC_CY'), ('CY799', 'Thesis (PhD)', 'NA', 'NA', 'CY', 'DPGC_CY'), ('CYL100', 'Applied Chemistry', 'C', 'L209', 'CY', 'Dr. Sanjib Banerjee (IC), Dr. Ramasamy Mayilmurugan,\\nDr. Mehboob Alam'), ('CYL101', 'Environmental Science', 'A3', 'L209', 'CY', 'Dr. Raghavender Medishetty'), ('CYL400', 'Chemical Kinetics and Surface Science', 'C', 'L208', 'CY', 'Dr. Satyajit Gupta'), ('CYL401', 'Coordination Chemistry', 'B', 'L205', 'CY', 'Dr. Raghavender Medishetty'), ('CYL500', 'Quantum Chemistry', 'A', 'L104', 'CY', 'Dr. Mehboob Alam'), ('CYL501', 'Stereochemistry and Reaction Mechanism', 'D', 'ED1 207/208', 'CY', 'Dr. Hemanta Kumar Kisan'), ('CYL600/CY605', 'Advanced Organic Chemistry', 'H', 'L202', 'CY', 'Dr. Ganapathy D'), ('CYL601/CY603', 'Organometallic Chemistry: Principles and Applications', 'L', 'L202', 'CY', 'Dr. Arup Mukherjee'), ('CYL602/CY607', 'Interpretative Molecular Spectroscopy', 'G', 'L205', 'CY', 'Dr. Suchetan Pal'), ('CYL605/CY650', 'EPR Spectroscopy and Its Applications', 'K', 'L103', 'CY', 'Dr. Ramasamy Mayilmurugan'), ('CYP102', 'ChemistryÂ\\xa0lab', 'LAB', 'CYÂ\\xa0LAB', 'CY', 'Dr.Â\\xa0KatchalaÂ\\xa0Nanaji,Â\\xa0Dr.Â\\xa0HemantaÂ\\xa0KumarÂ\\xa0Kisan,Â\\xa0Dr.Â\\xa0\\nSuchetanÂ\\xa0PalÂ\\xa0(IC)'), ('CYP502', 'OrganicÂ\\xa0andÂ\\xa0InorganicÂ\\xa0Laboratory', 'LAB', 'CYÂ\\xa0LAB', 'CY', 'Dr.Â\\xa0ArupÂ\\xa0Mukherjee,Â\\xa0Dr.Â\\xa0RamasamyÂ\\xa0MayilmuruganÂ\\xa0(IC),Â\\xa0Â\\xa0Dr.Â\\xa0SanjibÂ\\xa0Banerjee,Â\\xa0Dr.Â\\xa0GanapathyÂ\\xa0D'), ('CYP503', 'PhysicalÂ\\xa0andÂ\\xa0ComputationalÂ\\xa0Laboratory', 'LAB', 'CYÂ\\xa0LAB', 'CY', 'Dr.Â\\xa0SatyajitÂ\\xa0GuptaÂ\\xa0(IC),Â\\xa0Dr.Â\\xa0SuchetanÂ\\xa0Pal,Â\\xa0Dr.Â\\xa0HemantaÂ\\xa0\\nKumarÂ\\xa0Kisan,Â\\xa0Dr.Â\\xa0Rukmankesh'), ('DS200', 'Architecture for Management of Large Datasets', 'D', 'L204', 'DS', 'Dr. Subhajit Sidhanta'), ('DS209', 'Information Security', 'E', 'L101', 'DS', 'Dr. Souradyuti Paul'), ('DS210', 'Data Analytics and Visualization Lab', 'U 12 ', 'CSE LAB', 'DS', 'Dr. Rajesh Kumar Mundotiya'), ('DS220', 'Big Data Analytics Lab', 'Q 23 ', 'CS LAB', 'DS', 'Dr. Subhajit Sidhanta'), ('DS250', 'Data Analytics and Visualization', 'D', 'L103', 'DS', 'Dr. Rajesh Kumar Mundotiya'), ('DS251', 'Artificial Intelligence', 'B', 'L209', 'DS', 'Dr. Soumyajit Pramanik'), ('DS499', 'Thesis (BTech)', 'NA', 'NA', 'DS', 'DUGC_CSE'), ('DS599', 'Thesis (MTech)', 'NA', 'NA', 'DS', 'DPGC_CSE'), ('DS795', 'PhD Candidacy', 'NA', 'NA', 'DS', 'DPGC_CSE'), ('DS799', 'Thesis (PhD)', 'NA', 'NA', 'DS', 'DPGC_CSE'), ('DSL501/CS550', 'Machine Learning', 'F, W23 ', 'L202, CSE LAB', 'DS', 'Dr. Gagan Raj Gupta'), ('DSL502', 'Basic Mathematics for Data Science and Artificial Intelligence', 'B12, B3 ', 'L206', 'DS', 'Dr. Anil Kumar Sao'), ('DSL605/DS605', 'Deeplearning for Low resource NLP', 'E', 'L102', 'DS', 'Dr. Rajesh Kumar Mundotiya'), ('DSP505', 'Programming Lab for Data Science and Artificial Intelligence', 'S', 'ED1 207/208, CSE LAB', 'DS', 'Dr. Soumyajit Pramanik'), ('ECL501/EC501', 'Computer Communications', 'G12, S23 ', 'ED1 212/213, EC LAB', 'EC', 'Dr. Arzad Alam Kherani'), ('ECL502/EC502', 'Advanced Digital Communication', 'A', 'L203', 'EC', 'Dr. Sreejith T V'), ('ECL503/EC503', 'Digital IC Design', 'E', 'L103', 'EC', 'Dr. Rohit Chaurasia (IIIT NR)'), ('ECL504/EC504', 'Semiconductor Devices', 'F', 'L102', 'EC', 'Dr. Rohit Chaurasia (IIIT NR)'), ('EEL605/DS601', 'Digital Image Processing', 'A', 'L204', 'EE', 'Dr. Nitin Khanna'), ('EE201', 'Electronic Devices', 'A12', 'L101', 'EE', 'Dr. Nikhil Chander'), ('EE202', 'Control Systems - I', 'F', 'L101', 'EE', 'Dr. Shailendra Kumar'), ('EE203', 'Embedded Systems', 'C12', 'L206', 'EE', 'Prof. Santosh Biswas'), ('EE207', 'Engineering Electromagnetics', 'D12', 'L205', 'EE', 'Dr. Nikhil Chander'), ('EE301', 'Communication Systems', 'H23', 'ED1 201/202', 'EE', 'Dr. Sreejith T V'), ('EE351', 'Electrical Machines Lab', 'U ', 'EE LAB', 'EE', 'Dr. Shailendra Kumar'), ('EE499', 'Thesis (BTech)', 'NA', 'NA', 'EE', 'DUGC_EE'), ('EE599', 'Thesis (MTech)', 'NA', 'NA', 'EE', 'DPGC_EE'), ('EE795', 'PhD Candidacy', 'NA', 'NA', 'EE', 'DPGC_EE'), ('EE799', 'Thesis (PhD)', 'NA', 'NA', 'EE', 'DPGC_EE'), ('EEL509/EE509', 'Power Electronics', 'M', 'L105', 'EE', 'Dr. Prashant Agnihotri, Dr. Shailendra Kumar'), ('EEL521/EE525', 'Renewable and Distributed Energy Systems', 'C', 'L102', 'EE', 'Dr. Shailendra Kumar'), ('EEL601/EE612', 'Advanced Control Theory', 'E', 'L204', 'EE', 'Dr. Avishek Adhikari'), ('EEL621/EE621', 'Advanced Power Electronics', 'D', 'L102', 'EE', 'Dr. Shashank Kurm'), ('EEP501', 'Control Systems Lab', 'O ', 'TBA', 'EE', 'Dr. Avishek Adhikari'), ('EEP502', 'Sensors and Instrumentation Lab', 'U ', 'EE LAB', 'EE', 'Dr. Avishek Adhikari, Dr. Nitin Khanna'), ('EV599', 'Thesis (MTech)', 'NA', 'NA', 'EVT', 'DPGC_EVT'), ('EV795', 'PhD Candidacy', 'NA', 'NA', 'EVT', 'DPGC_EVT'), ('EV799', 'Thesis (PhD)', 'NA', 'NA', 'EVT', 'DPGC_EVT'), ('EVL500/EV513', 'Electrochemical Energy Conversion and Storage Technologies', 'I', 'L203', 'EVT', 'Dr. Katchala Nanaji'), ('EVL501/EV512', 'Introduction of EV and HEV', 'H12', 'L103', 'EVT', 'Dr. Shashank Kurm'), ('EVL502/EV514', 'EV Policies and Regulations', 'H3', 'L103', 'EVT', 'Dr. Satyajit Gupta'), ('EVL504/EV515', 'Automobile technologies', 'G', 'L101', 'EVT', 'Dr. Pravesh Shukla, Dr. Nagesh Debidas Patil'), ('EVL505', 'Electrical Engineering for EV', 'M', 'ED1 212/213', 'EVT', 'Dr. Nitin Khanna, Dr. Shashank Kurm'), ('LA201', \"Chinese Beginner's 2 & 3\", 'K12', 'ED1 201/202', 'LA', 'Ms. Hao Yu Lu'), ('LA202', 'Chinese Basic 3 & 4', 'K3', 'ED1 207/208', 'LA', 'Ms. Hao Yu Lu'), ('LA302', 'Indian Writing in English', 'L12', 'L102', 'LA', 'Dr. Sruthi Vinayan'), ('LA321', 'Macroeconomics', 'L3', 'L209', 'LA', 'Dr. Rekha Ravindran'), ('LA324', 'Leadership: An Organizational Behaviour Perspective', 'K3', 'L209', 'LA', 'Dr. Anindita Ghosh'), ('LA325', 'Concepts of Personality Psychology', 'X', 'L209', 'LA', 'Dr. Anindita Ghosh'), ('LA353', 'Experiencing the Indian University', 'L3', 'L206', 'LA', 'Dr. Sonal Jha'), ('LAN102', 'Speaking and Writing Skill', 'NA', 'NA', 'LA', 'Dr. Anubhav Pradhan'), ('LA799', 'Thesis (PhD)', 'NA', 'NA', 'LA', 'DPGC_LA'), ('IC202/MA506', 'Calculus II', 'M1,M3, G2 ', 'L209, (L103, L104, L203, L204 TUT)', 'MA', 'Dr. Raj Kumar Mistri'), ('MA605', 'Operations Research', 'L12', 'L101', 'MA', 'Dr. Arnab Patra'), ('MA609', 'Numerical Optimization Techniques', 'M3', 'L103', 'MA', 'Dr. Pawan Kumar Mishra'), ('MA699', 'Thesis (MSc)', 'NA', 'NA', 'MA', 'DPGC_MA'), ('MA795', 'PhD Candidacy', 'NA', 'NA', 'MA', 'DPGC_MA'), ('MA799', 'Thesis (PhD)', 'NA', 'NA', 'MA', 'DPGC_MA'), ('MAL100', 'Mathematics-I', 'D23, E3, X ', 'L209 (L103, L104, L203, L204, ED1 201/202 TUT)', 'MA', 'Dr. Anurag Singh'), ('MAL401', 'Linear Algebra', 'L', 'L203', 'MA', 'Dr. Lakshmi Kanta Patra'), ('MAL402', 'Real Analysis', 'D, H2 ', 'L108, (L203)', 'MA', 'Dr. Pawan Kumar Mishra'), ('MAL403/MA503/IC105', 'Probability and Statistics', 'C, H3', 'ED1 201/202 (L203 TUT)', 'MA', 'Dr. Kuldeep  Kumar Kataria'), ('MAL404', 'Modern Algebra', 'B', 'L202', 'MA', 'Dr. Avijit Pal'), ('MAL502/MA604', 'Functional Analysis', 'D', 'L207', 'MA', 'Dr. Avijit Pal'), ('MAL511/MA614', 'Additive Number Theory', 'A', 'L207', 'MA', 'Dr. Raj Kumar Mistri'), ('MAL600/MA618', 'Introduction to Spectral Theory', 'D', 'L208', 'MA', 'Dr. Arnab Patra'), ('MAL602/MA613', 'Operator Theory II', 'C', 'L105', 'MA', 'Dr. Avijit Pal'), ('MAL603/MA608', 'Martingale Theory', 'B', 'L102', 'MA', 'Dr. Kuldeep  Kumar Kataria'), ('ME212', 'Fluid Mechanics', 'C', 'L204', 'ME', 'Dr. Udayraj'), ('ME231', 'Solid Mechanics-I', 'D', 'L203', 'ME', 'Dr. Anshul Faye'), ('ME251', 'Manufacturing Science I', 'J', 'L103', 'ME', 'Dr. Soumya Gangopadhyay, Dr. Rahul Jain'), ('ME333', 'Theory of Machines and Mechanism', 'A', 'L103', 'ME', 'Dr. Ganesh Kolappan Geetha'), ('ME371', 'Mechanical Engineering Labs-I', 'Q ', 'ME LAB', 'ME', 'Dr. Anshul Faye, Dr. Nagesh Devidas Patil'), ('ME499', 'Thesis (BTech)', 'NA', 'NA', 'ME', 'DUGC_ME'), ('ME599', 'Thesis (MTech)', 'NA', 'NA', 'ME', 'DPGC_ME'), ('ME795', 'PhD Candidacy', 'NA', 'NA', 'ME', 'DPGC_ME'), ('ME799', 'Thesis (PhD)', 'NA', 'NA', 'ME', 'DPGC_ME'), ('ME514', 'Internal Combustion Engines', 'D', 'L104', 'ME', 'Dr. Pravesh Chandra Shukla'), ('MEL501/ME502', 'Advanced Engineering Mathematics', 'C', 'L103', 'ME', 'Dr. Balkrishna Mehta'), ('MEL611/ME512', 'Advanced Fluid Mechanics', 'J', 'L104', 'ME', 'Dr. Nagesh Devidas Patil'), ('MEL612/ME612', 'Conduction and Radiation Heat Transfer', 'B', 'ED1 207/208', 'ME', 'Dr. Vijay S. Duryodhan'), ('MEL624/ME624', 'Energy conservation and Management', 'G', 'L102', 'ME', 'Dr. Vijay S. Duryodhan, Dr. Udayraj'), ('MEL631/ME631', 'Continuum Mechanics', 'A', 'ED1 207/208', 'ME', 'Dr. Anshul Faye'), ('MEL636/ME636', 'Structural Dynamics', 'G', 'L202', 'ME', 'Dr. Ganesh Kolappan Geetha'), ('MEL652/ME657', 'Advances in Metal Forming and Welding', 'F', 'L104', 'ME', 'Dr. Kaushik Bandyopadhyay, Dr. Rahul Jain'), ('MEL558/ME558', 'Surface Engineering', 'M', 'L205', 'ME', 'Dr. Soumya Gangopadhyay, Dr. Purnendu Das'), ('MEL659/ME659', 'Advanced Materials and Processing', 'E', 'L203', 'ME', 'Dr. Jose Immanuel R'), ('MML501/MM501', 'Characterization and Testing of Materials', 'G', 'L206', 'MSME', 'Dr. Jose Immanuel R'), ('MML551/MM551', 'Thermodynamics and Phase Diagram', 'H12', 'L104', 'MSME', 'Dr. Raghavender Medishetty'), ('MML552/MM552', 'Fundamentals of crystallography', 'H3', 'L104', 'MSME', 'Dr. Raghavender Medishetty'), ('MML553/MM553', 'Material synthesis and processing', 'I23', 'L204', 'MSME', 'Dr. Sanjib Banerjee'), ('MT201', 'Sensors and Instrumentation', 'C12', 'ED1 207/208', 'MT', 'Dr. Jose Immanuel R'), ('MT202', 'Mechatronics Lab - I', 'R 23 ', 'MT LAB', 'MT', 'Dr. Gagan Raj Gupta'), ('MT599', 'Thesis (MTech)', 'NA', 'NA', 'MT', 'DPGC_MT'), ('MT795', 'PhD Candidacy', 'NA', 'NA', 'MT', 'DPGC_MT'), ('MT799', 'Thesis (PhD)', 'NA', 'NA', 'MT', 'DPGC_MT'), ('MTL501/MT511', 'Fundamental of Mechatronics', 'D12, O23 LAB', 'L202', 'MT', 'Dr. Purnendu Das, Dr. Jose Immanuel R, Dr. Avishek\\nAdhikari, Dr. Kaushik Bandyopadhyay'), ('MTL603/MT512', 'Digital Manufacturing', 'H', 'L205', 'MT', 'Dr. Kaushik Bandyopadhyay'), ('AA102', 'National Sports Organization', 'NA', 'TBA', 'NA', 'Dr. Purnendu das'), ('AA103', 'National Service Scheme', 'NA', 'TBA', 'NA', 'Dr. Pawan Kumar Mishra'), ('NCN100', 'Practices for Comprehensive wellbeing', 'NA', 'NA', 'NA', 'Dr. Purnendu Das'), ('NCN101', 'National Service Scheme', 'NA', 'NA', 'NA', 'Dr. Pawan Kumar Mishra'), ('NCN102', 'National Sports Organization', 'NA', 'NA', 'NA', 'Dr. Purnendu Das'), ('IC200', 'Introduction to Astronomy and Astrophysics', 'I12, H2 ', 'L209,(L204, L206, ED1 207/208, ED1 212/213 TUT)', 'PH', 'Dr. Mahavir Sharma'), ('PH699', 'Thesis (MSc)', 'NA', 'NA', 'PH', 'DPGC_PH'), ('PH795', 'PhD Candidacy', 'NA', 'NA', 'PH', 'DPGC_PH'), ('Ph799', 'Thesis (PhD)', 'NA', 'NA', 'PH', 'DPGC_PH'), ('PHL101', 'Physics for Engineers', 'D1,F1,F3, B1 ', 'L209,(L103, L104, L203, L204, ED1 201/202 TUT)', 'PH', 'Dr. Mahavir Sharma, Dr. Praveen Kumar'), ('PHL403/PH503', 'Mathematical Physics', 'B', 'ED1 212/213', 'PH', 'Dr. Sudhanwa Patra'), ('PHL404/PH514', 'Electronics', 'D', 'L105', 'PH', 'Dr. Anjali Chaudhary'), ('PHL501/PH501', 'Classical Mechanics', 'A', 'L208', 'PH', 'Dr. Dhruv Pratap Singh'), ('PHL502/PH502', 'Quantum Mechanics', 'MON,TUE,THU 5:30-6:30', 'L209', 'PH', 'Dr. Sabyasachi Ghosh'), ('PHL505/PH508', 'Electrodynamics', 'E', 'L206', 'PH', 'Dr. Praveen Kumar'), ('PHL607/PH513', 'Experimental and Measurement Techniques', 'J', 'L101', 'PH', 'Dr. Dhruv Pratap Singh'), ('PHL611/PH611', 'Applied Optics', 'M', 'L206', 'PH', 'Dr. Praveen Kumar'), ('PHP102', 'Physics lab', 'LAB', 'PH LAB', 'PH', 'Dr. Sesha Vempati'), ('PHP506', 'Electronics Laboratory', 'LAB', 'PH LAB', 'PH', 'Dr. Anjali Chaudhary')]\n"
     ]
    }
   ],
   "source": [
    "print(data)"
   ]
  },
  {
   "cell_type": "markdown",
   "id": "b8fcccbe-bf2a-4623-80ec-0eac070f49a2",
   "metadata": {},
   "source": [
    "# Analysing rows and columns"
   ]
  },
  {
   "cell_type": "code",
   "execution_count": 4,
   "id": "1f986340-5f66-4d33-8363-18095092675b",
   "metadata": {},
   "outputs": [
    {
     "data": {
      "text/plain": [
       "Index(['Code (New/Old)', 'Name (New/Old)', 'Slot new', 'Room Nubmer',\n",
       "       'Discipline', 'Instructor'],\n",
       "      dtype='object')"
      ]
     },
     "execution_count": 4,
     "metadata": {},
     "output_type": "execute_result"
    }
   ],
   "source": [
    "df.columns"
   ]
  },
  {
   "cell_type": "code",
   "execution_count": 5,
   "id": "60fadcc9-0e7c-4e3f-8998-4a06f3097231",
   "metadata": {},
   "outputs": [
    {
     "data": {
      "text/plain": [
       "'A'"
      ]
     },
     "execution_count": 5,
     "metadata": {},
     "output_type": "execute_result"
    }
   ],
   "source": [
    "df.loc[df['Code (New/Old)']==\"ME333\"]['Slot new'].squeeze()"
   ]
  },
  {
   "cell_type": "code",
   "execution_count": 16,
   "id": "37ce1b3d-0e84-4d37-8ab8-040b6653111b",
   "metadata": {},
   "outputs": [],
   "source": [
    "keys=[]\n",
    "Slot = {\"A1\": 11, \"B1\": 12, \"C1\": 13, \"E1\": 14, \"G1\": 15, \"K1\": 16, \"L1\": 17, \"I1\": 18,\n",
    "             \"B2\": 21, \"D1\": 22, \"C2\": 23, \"H1\": 25, \"L2\": 26, \"J1\": 27, \"M1\": 28,\n",
    "             \"E2\": 31, \"A2\": 32, \"D2\": 33, \"F1\": 34, \"G2\": 35, \"K2\": 36, \"M2\": 37, \"I2\": 38,\n",
    "             \"F2\": 41, \"B3\": 42, \"C3\": 43, \"E3\": 44, \"H2\": 45, \"L3\": 46, \"M3\": 47, \"J2\": 48,\n",
    "             \"G3\": 51, \"A3\": 52, \"D3\": 53, \"F3\": 54, \"H3\": 55, \"K3\": 56, \"J3\": 57, \"I3\": 58,\n",
    "             \"N\": 1, \"O\": 2, \"V\": 3, \"W\": 4, \"P\": 5, \"Q\": 6, \"R\": 7, \"S\": 8, \"T\": 9, \"U\": 10}\n",
    "add=[Slot[\"A1\"],Slot[\"A2\"],Slot[\"A3\"]]\n",
    "keys.append(add)\n"
   ]
  },
  {
   "cell_type": "code",
   "execution_count": 17,
   "id": "c9fff320-a696-41ce-9459-463aa83adcf7",
   "metadata": {},
   "outputs": [
    {
     "data": {
      "text/plain": [
       "[[11, 32, 52]]"
      ]
     },
     "execution_count": 17,
     "metadata": {},
     "output_type": "execute_result"
    }
   ],
   "source": [
    "keys"
   ]
  },
  {
   "cell_type": "code",
   "execution_count": 8,
   "id": "35d0a1f7-e4ea-498a-af66-90fbcb4c4d12",
   "metadata": {},
   "outputs": [],
   "source": [
    "# list of list very use full as one code item will correspond to one list index only"
   ]
  },
  {
   "cell_type": "markdown",
   "id": "778dcb39-6e22-4a4a-8c32-189240f5180f",
   "metadata": {},
   "source": [
    "# Using Regex"
   ]
  },
  {
   "cell_type": "code",
   "execution_count": 9,
   "id": "86099457-4443-4c83-b466-7844072693a9",
   "metadata": {},
   "outputs": [],
   "source": [
    "import re # using regex (language processing)"
   ]
  },
  {
   "cell_type": "code",
   "execution_count": 10,
   "id": "e4487ab9-c7b0-4284-9ecc-91e43e46b613",
   "metadata": {},
   "outputs": [
    {
     "data": {
      "text/plain": [
       "['D12']"
      ]
     },
     "execution_count": 10,
     "metadata": {},
     "output_type": "execute_result"
    }
   ],
   "source": [
    "pattern= re.compile(\"[A-Z]+[0-9]{2}\") # for D12 vaghera\n",
    "re.findall(pattern,df.loc[df['Code (New/Old)']==\"CS204\"]['Slot new'].squeeze())\n",
    "# this can work as a checker \n",
    "pattern2= re.compile(\"[A-Z][0-9]{1},[A-Z][0-9]{1}\") # for B1,B3\n",
    "pattern3= re.compile(\"[A-Z][0-9]{2},[A-Z][0-9]{2}\")"
   ]
  },
  {
   "cell_type": "code",
   "execution_count": 26,
   "id": "d9326b72-e5b3-4425-972d-e63efd4cfa7d",
   "metadata": {},
   "outputs": [
    {
     "name": "stdout",
     "output_type": "stream",
     "text": [
      "['D12']\n",
      "D 1 2\n"
     ]
    }
   ],
   "source": [
    "slots=(df.loc[df['Code (New/Old)']==\"CS204\"]['Slot new'].squeeze()).split(\",\")\n",
    "# agar split kiya toh you only need to analyse D1 and D23 type codes\n",
    "print(slots)\n",
    "for slot in slots:\n",
    "    pattern= re.compile(\"[A-Z]+[0-9]{2}\") # for D12 vaghera\n",
    "    if re.findall(pattern,slot) == [] :\n",
    "        print(\"simple slot\")\n",
    "    else:\n",
    "        alphabet=slot[0]\n",
    "        dig_1=slot[1]\n",
    "        dig_2=slot[2]\n",
    "        print(alphabet , dig_1, dig_2)\n",
    "    "
   ]
  },
  {
   "cell_type": "markdown",
   "id": "f5e9e523-0daa-4d15-97ed-3496dfe7991f",
   "metadata": {},
   "source": [
    "# Getting final  logic"
   ]
  },
  {
   "cell_type": "code",
   "execution_count": 32,
   "id": "57630553-6a93-415b-a7a7-c1e4b967f05c",
   "metadata": {},
   "outputs": [],
   "source": [
    "Slot_key = {\"A1\": 11, \"B1\": 12, \"C1\": 13, \"E1\": 14, \"G1\": 15, \"K1\": 16, \"L1\": 17, \"I1\": 18,\n",
    "             \"B2\": 21, \"D1\": 22, \"C2\": 23, \"H1\": 25, \"L2\": 26, \"J1\": 27, \"M1\": 28,\n",
    "             \"E2\": 31, \"A2\": 32, \"D2\": 33, \"F1\": 34, \"G2\": 35, \"K2\": 36, \"M2\": 37, \"I2\": 38,\n",
    "             \"F2\": 41, \"B3\": 42, \"C3\": 43, \"E3\": 44, \"H2\": 45, \"L3\": 46, \"M3\": 47, \"J2\": 48,\n",
    "             \"G3\": 51, \"A3\": 52, \"D3\": 53, \"F3\": 54, \"H3\": 55, \"K3\": 56, \"J3\": 57, \"I3\": 58,\n",
    "             \"N\": 1, \"O\": 2, \"V\": 3, \"W\": 4, \"P\": 5, \"Q\": 6, \"R\": 7, \"S\": 8, \"T\": 9, \"U\": 10}\n",
    "\n",
    "index = {11: \"A1\", 12: \"B1\", 13: \"C1\", 14: \"E1\", 15: \"G1\", 16: \"K1\", 17: \"L1\", 18: \"I1\",\n",
    "             21: \"B2\", 22: \"D1\", 23: \"C2\", 24: \"  \", 25: \"H1\", 26: \"L2\", 27: \"J1\", 28: \"M1\",\n",
    "             31: \"E2\", 32: \"A2\", 33: \"D2\", 34: \"F1\", 35: \"G2\", 36: \"K2\", 37: \"M2\", 38: \"I2\",\n",
    "             41: \"F2\", 42: \"B3\", 43: \"C3\", 44: \"E3\", 45: \"H2\", 46: \"L3\", 47: \"M3\", 48: \"J2\",\n",
    "             51: \"G3\", 52: \"A3\", 53: \"D3\", 54: \"F3\", 55: \"H3\", 56: \"K3\", 57: \"J3\", 58: \"I3\",\n",
    "\n",
    "             1: \"N\", 2: \"O\", 3: \"V\", 4: \"W\", 5: \"P\", 6: \"Q\", 7: \"R\", 8: \"S\", 9: \"T\", 10: \"U\"}"
   ]
  },
  {
   "cell_type": "code",
   "execution_count": 29,
   "id": "9631d03a-ddb6-49f5-81d1-4053f54f8929",
   "metadata": {},
   "outputs": [
    {
     "data": {
      "text/plain": [
       "'G1, G3'"
      ]
     },
     "execution_count": 29,
     "metadata": {},
     "output_type": "execute_result"
    }
   ],
   "source": [
    "df.loc[df['Code (New/Old)']==\"CS252\"]['Slot new'].squeeze()"
   ]
  },
  {
   "cell_type": "code",
   "execution_count": 82,
   "id": "a461761e-000f-4ed8-bf50-39604179de8d",
   "metadata": {},
   "outputs": [
    {
     "name": "stdout",
     "output_type": "stream",
     "text": [
      "[[15, 51], [34, 41], [11, 32, 52], [22, 33]]\n"
     ]
    }
   ],
   "source": [
    "keys=[]\n",
    "add=[]\n",
    "pattern1= re.compile(\"[A-Z][0-9]{2}\") # for D12 vaghera\n",
    "pattern2= re.compile(\"[A-Z][0-9]{1}\") # for D1\n",
    "\n",
    "slots=[(df.loc[df['Code (New/Old)']==\"CS252\"]['Slot new'].squeeze()).strip().split(\",\"),\n",
    "(df.loc[df['Code (New/Old)']==\"CS202\"]['Slot new'].squeeze()).split(\",\"),\n",
    "       (df.loc[df['Code (New/Old)']==\"ME333\"]['Slot new'].squeeze()).split(\",\"),\n",
    "(df.loc[df['Code (New/Old)']==\"CS204\"]['Slot new'].squeeze()).split(\",\")]\n",
    "for course_slot in slots:\n",
    "    \n",
    "    add=[]\n",
    "    \n",
    "    for slot in course_slot:\n",
    "        slot=slot.strip()\n",
    "        \n",
    "       \n",
    "        if re.findall(pattern1,slot) == [] :\n",
    "            if re.findall(pattern2,slot) == [] : # single alphabet\n",
    "                alphabet=slot[0]\n",
    "                add.append(Slot_key[f\"{alphabet}1\"])\n",
    "                add.append(Slot_key[f\"{alphabet}2\"])\n",
    "                add.append(Slot_key[f\"{alphabet}3\"])\n",
    "            else:\n",
    "                add.append(Slot_key[slot]) \n",
    "        else:\n",
    "            alphabet=slot[0]\n",
    "            dig_1=slot[1]\n",
    "            dig_2=slot[2]\n",
    "            \n",
    "            add.append(Slot_key[f\"{alphabet}{dig_1}\"])\n",
    "            add.append(Slot_key[f\"{alphabet}{dig_2}\"])\n",
    "    keys.append(add)\n",
    "            \n",
    "print(keys)\n"
   ]
  },
  {
   "cell_type": "code",
   "execution_count": 75,
   "id": "1b3050e2-edb7-4e99-b55a-b2cda9dc5bd6",
   "metadata": {},
   "outputs": [],
   "source": [
    "index_trial = {11: \"A1\", 12: \"B1\", 13: \"C1\", 14: \"E1\", 15: \"G1\", 16: \"K1\", 17: \"L1\", 18: \"I1\",\n",
    "             21: \"B2\", 22: \"D1\", 23: \"C2\", 24: \"  \", 25: \"H1\", 26: \"L2\", 27: \"J1\", 28: \"M1\",\n",
    "             31: \"E2\", 32: \"A2\", 33: \"D2\", 34: \"F1\", 35: \"G2\", 36: \"K2\", 37: \"M2\", 38: \"I2\",\n",
    "             41: \"F2\", 42: \"B3\", 43: \"C3\", 44: \"E3\", 45: \"H2\", 46: \"L3\", 47: \"M3\", 48: \"J2\",\n",
    "             51: \"G3\", 52: \"A3\", 53: \"D3\", 54: \"F3\", 55: \"H3\", 56: \"K3\", 57: \"J3\", 58: \"I3\",\n",
    "\n",
    "             1: \"N\", 2: \"O\", 3: \"V\", 4: \"W\", 5: \"P\", 6: \"Q\", 7: \"R\", 8: \"S\", 9: \"T\", 10: \"U\"}"
   ]
  },
  {
   "cell_type": "code",
   "execution_count": 84,
   "id": "a5d2f8f4-c647-4737-9284-3d8e704d3f4c",
   "metadata": {
    "scrolled": true
   },
   "outputs": [
    {
     "name": "stdout",
     "output_type": "stream",
     "text": [
      "15\n",
      "51\n",
      "CS252\n",
      "34\n",
      "41\n",
      "CS202\n",
      "11\n",
      "32\n",
      "52\n",
      "ME333\n",
      "22\n",
      "33\n",
      "CS204\n"
     ]
    }
   ],
   "source": [
    "i=0\n",
    "input=[\"CS252\",\"CS202\",\"ME333\",\"CS204\"]\n",
    "for list in keys:\n",
    "    for key in list:\n",
    "        print(key)\n",
    "        index_trial[key]=input[i]\n",
    "    print(input[i])\n",
    "    i=i+1\n",
    "\n",
    "\n",
    "        \n",
    "    "
   ]
  },
  {
   "cell_type": "code",
   "execution_count": 85,
   "id": "bd276334-7afb-46a8-8587-00b9cbbbc29b",
   "metadata": {},
   "outputs": [
    {
     "data": {
      "text/plain": [
       "{11: 'ME333',\n",
       " 12: 'B1',\n",
       " 13: 'C1',\n",
       " 14: 'E1',\n",
       " 15: 'CS252',\n",
       " 16: 'K1',\n",
       " 17: 'L1',\n",
       " 18: 'I1',\n",
       " 21: 'B2',\n",
       " 22: 'CS204',\n",
       " 23: 'C2',\n",
       " 24: '  ',\n",
       " 25: 'H1',\n",
       " 26: 'L2',\n",
       " 27: 'J1',\n",
       " 28: 'M1',\n",
       " 31: 'E2',\n",
       " 32: 'ME333',\n",
       " 33: 'CS204',\n",
       " 34: 'CS202',\n",
       " 35: 'G2',\n",
       " 36: 'K2',\n",
       " 37: 'M2',\n",
       " 38: 'I2',\n",
       " 41: 'CS202',\n",
       " 42: 'B3',\n",
       " 43: 'C3',\n",
       " 44: 'E3',\n",
       " 45: 'H2',\n",
       " 46: 'L3',\n",
       " 47: 'M3',\n",
       " 48: 'J2',\n",
       " 51: 'CS252',\n",
       " 52: 'ME333',\n",
       " 53: 'D3',\n",
       " 54: 'F3',\n",
       " 55: 'H3',\n",
       " 56: 'K3',\n",
       " 57: 'J3',\n",
       " 58: 'I3',\n",
       " 1: 'N',\n",
       " 2: 'O',\n",
       " 3: 'V',\n",
       " 4: 'W',\n",
       " 5: 'P',\n",
       " 6: 'Q',\n",
       " 7: 'R',\n",
       " 8: 'S',\n",
       " 9: 'T',\n",
       " 10: 'U'}"
      ]
     },
     "execution_count": 85,
     "metadata": {},
     "output_type": "execute_result"
    }
   ],
   "source": [
    "index_trial"
   ]
  }
 ],
 "metadata": {
  "kernelspec": {
   "display_name": "Python 3 (ipykernel)",
   "language": "python",
   "name": "python3"
  },
  "language_info": {
   "codemirror_mode": {
    "name": "ipython",
    "version": 3
   },
   "file_extension": ".py",
   "mimetype": "text/x-python",
   "name": "python",
   "nbconvert_exporter": "python",
   "pygments_lexer": "ipython3",
   "version": "3.10.8"
  }
 },
 "nbformat": 4,
 "nbformat_minor": 5
}
